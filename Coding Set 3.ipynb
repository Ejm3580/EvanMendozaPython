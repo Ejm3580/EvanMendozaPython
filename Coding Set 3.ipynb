{
 "cells": [
  {
   "cell_type": "markdown",
   "id": "2b379ebf",
   "metadata": {},
   "source": [
    "## Coding Set 3\n",
    "\n",
    "Algorithm workbench question 4"
   ]
  },
  {
   "cell_type": "code",
   "execution_count": 22,
   "id": "cbb0ad31",
   "metadata": {},
   "outputs": [
    {
     "name": "stdout",
     "output_type": "stream",
     "text": [
      "Input your score here: 78\n",
      "Your grade is C.\n"
     ]
    }
   ],
   "source": [
    "A_score=90\n",
    "B_score=80\n",
    "C_score=70\n",
    "D_score=60\n",
    "score=int(input('Input your score here: '))\n",
    "if score >= A_score:\n",
    "    print('Your grade is A.')\n",
    "else:\n",
    "    if score >= B_score:\n",
    "        print('Your grade is B.')\n",
    "    else:\n",
    "        if score >= C_score:\n",
    "            print('Your grade is C.')\n",
    "        else:\n",
    "            if score >= D_score:\n",
    "                print('Your grade is D.')\n",
    "            else:\n",
    "                print('Your grade is F.')"
   ]
  },
  {
   "cell_type": "markdown",
   "id": "162abae2",
   "metadata": {},
   "source": [
    "Algorithm workbench question 5"
   ]
  },
  {
   "cell_type": "code",
   "execution_count": null,
   "id": "f6f3972e",
   "metadata": {},
   "outputs": [],
   "source": [
    "a"
   ]
  }
 ],
 "metadata": {
  "kernelspec": {
   "display_name": "Python 3 (ipykernel)",
   "language": "python",
   "name": "python3"
  },
  "language_info": {
   "codemirror_mode": {
    "name": "ipython",
    "version": 3
   },
   "file_extension": ".py",
   "mimetype": "text/x-python",
   "name": "python",
   "nbconvert_exporter": "python",
   "pygments_lexer": "ipython3",
   "version": "3.11.5"
  }
 },
 "nbformat": 4,
 "nbformat_minor": 5
}
