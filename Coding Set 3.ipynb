{
 "cells": [
  {
   "cell_type": "markdown",
   "id": "2b379ebf",
   "metadata": {},
   "source": [
    "## Coding Set 3\n",
    "\n",
    "Algorithm workbench question 4"
   ]
  },
  {
   "cell_type": "code",
   "execution_count": 1,
   "id": "abc87cf6",
   "metadata": {},
   "outputs": [
    {
     "name": "stdout",
     "output_type": "stream",
     "text": [
      "Input your score here: 78\n",
      "Your grade is C.\n"
     ]
    }
   ],
   "source": [
    "#Define scores to make sure the following code can be successful\n",
    "A_score=90\n",
    "B_score=80\n",
    "C_score=70\n",
    "D_score=60\n",
    "\n",
    "#Wanted to add this to make the code more practical rather than having to manually insert score into the lines of code\n",
    "score=int(input('Input your score here: '))\n",
    "\n",
    "#Now I can rewrite the code with the proper indentation\n",
    "if score >= A_score:\n",
    "    print('Your grade is A.')\n",
    "else:\n",
    "    if score >= B_score:\n",
    "        print('Your grade is B.')\n",
    "    else:\n",
    "        if score >= C_score:\n",
    "            print('Your grade is C.')\n",
    "        else:\n",
    "            if score >= D_score:\n",
    "                print('Your grade is D.')\n",
    "            else:\n",
    "                print('Your grade is F.')"
   ]
  },
  {
   "cell_type": "markdown",
   "id": "ee876c43",
   "metadata": {},
   "source": [
    "Algorithm workbench question 5"
   ]
  },
  {
   "cell_type": "code",
   "execution_count": 2,
   "id": "d49982be",
   "metadata": {},
   "outputs": [
    {
     "name": "stdout",
     "output_type": "stream",
     "text": [
      "Enter the value of a: 15\n",
      "Enter the value of b: 80\n",
      "The greater value between 15 and 80 is 80.\n"
     ]
    }
   ],
   "source": [
    "# Will use a and b as the two values, and will use int(input) code to prompt user to input values\n",
    "a=int(input('Enter the value of a: '))\n",
    "b=int(input('Enter the value of b: '))\n",
    "\n",
    "#Will use if comand with > and < symbols to set the range that code will respond to, followed by print() commands to read the greater value\n",
    "if a>10 and b<100:\n",
    "    if a>b:\n",
    "        print(f'The greater value between {a} and {b} is {a}.')\n",
    "    else:\n",
    "        if b>a:\n",
    "            print(f'The greater value between {a} and {b} is {b}.')\n",
    "        "
   ]
  },
  {
   "cell_type": "markdown",
   "id": "d8255ac8",
   "metadata": {},
   "source": [
    "## Programming exercise 1"
   ]
  },
  {
   "cell_type": "code",
   "execution_count": 3,
   "id": "2efe2b48",
   "metadata": {},
   "outputs": [
    {
     "name": "stdout",
     "output_type": "stream",
     "text": [
      "Enter a value between 1 and 7: 3\n",
      "Wednesday\n"
     ]
    }
   ],
   "source": [
    "# a will be the assigned value, followed by a string of if-else lines to define the days to the corresponding value.\n",
    "a=int(input('Enter a value between 1 and 7: '))\n",
    "if a==1:\n",
    "    print('Monday')\n",
    "else:\n",
    "    if a==2:\n",
    "        print('Tuesday')\n",
    "    else:\n",
    "        if a==3:\n",
    "            print('Wednesday')\n",
    "        else:\n",
    "            if a==4:\n",
    "                print('Thursday')\n",
    "            else:\n",
    "                if a==5:\n",
    "                    print('Friday')\n",
    "                else:\n",
    "                    if a==6:\n",
    "                        print('Saturday')\n",
    "                    else:\n",
    "                        if a==7:\n",
    "                            print('Sunday')\n",
    "                        else:\n",
    "                            if a>7:\n",
    "                                print('Error: Enter a number between 1 and 7')\n",
    "                            \n",
    "        "
   ]
  },
  {
   "cell_type": "markdown",
   "id": "c3c01947",
   "metadata": {},
   "source": [
    "# Programming exercise 5"
   ]
  },
  {
   "cell_type": "code",
   "execution_count": 5,
   "id": "1eb776bf",
   "metadata": {},
   "outputs": [
    {
     "name": "stdout",
     "output_type": "stream",
     "text": [
      "Enter the object's mass in kilograms.200\n",
      "Weight: 1960.0000000000002 newtons\n",
      "The object is too heavy.\n"
     ]
    }
   ],
   "source": [
    "#First I need to input a command to prompt the user to input the mass\n",
    "mass = float(input(\"Enter the object's mass in kilograms.\"))\n",
    "#Next I need to define the gravity constant which is 9.8\n",
    "gravity_constant = 9.8\n",
    "weight = mass * gravity_constant\n",
    "#Now I need to add a print command to show the result of the equation with the user input\n",
    "print(\"Weight:\", weight, \"newtons\")\n",
    "#Now I will add if commands for the \"Too heavy\" \"Too light\" portion\n",
    "if weight>500:\n",
    "    print(\"The object is too heavy.\")\n",
    "elif weight<100:\n",
    "    print(\"The object is too light.\")"
   ]
  },
  {
   "cell_type": "markdown",
   "id": "b4665c4a",
   "metadata": {},
   "source": [
    "# Programming Exercise 17"
   ]
  },
  {
   "cell_type": "code",
   "execution_count": 12,
   "id": "c4e00885",
   "metadata": {},
   "outputs": [
    {
     "name": "stdout",
     "output_type": "stream",
     "text": [
      "Reboot the computer and try to connect.\n",
      "Did that fix the problem?no\n",
      "Reboot the router and try to connect.\n"
     ]
    }
   ],
   "source": [
    "#Simple print command to start the string\n",
    "print('Reboot the computer and try to connect.')\n",
    "\n",
    "reboot_computer = input('Did that fix the problem?')\n",
    "if reboot_computer == \"yes\":\n",
    "    print('You are all set.')\n",
    "elif reboot_computer == \"no\":\n",
    "    print('Reboot the router and try to connect.')\n",
    "    "
   ]
  },
  {
   "cell_type": "code",
   "execution_count": null,
   "id": "8fa50c9a",
   "metadata": {},
   "outputs": [],
   "source": []
  }
 ],
 "metadata": {
  "kernelspec": {
   "display_name": "Python 3 (ipykernel)",
   "language": "python",
   "name": "python3"
  },
  "language_info": {
   "codemirror_mode": {
    "name": "ipython",
    "version": 3
   },
   "file_extension": ".py",
   "mimetype": "text/x-python",
   "name": "python",
   "nbconvert_exporter": "python",
   "pygments_lexer": "ipython3",
   "version": "3.11.5"
  }
 },
 "nbformat": 4,
 "nbformat_minor": 5
}
