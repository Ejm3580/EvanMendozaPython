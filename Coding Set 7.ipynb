{
 "cells": [
  {
   "cell_type": "markdown",
   "id": "7aa9da82",
   "metadata": {},
   "source": [
    "## Coding Set 7\n",
    "\n",
    "Algorithm Workbench Question 1"
   ]
  },
  {
   "cell_type": "code",
   "execution_count": 2,
   "id": "90f24862",
   "metadata": {},
   "outputs": [
    {
     "name": "stdout",
     "output_type": "stream",
     "text": [
      "List of scientists: ['Einstein', 'Newton', 'Copernicus', 'Kepler']\n"
     ]
    }
   ],
   "source": [
    "#Scientists will act as the variable and the following list will add the names\n",
    "scientists = [\"Einstein\", \"Newton\", \"Copernicus\", \"Kepler\"]\n",
    "\n",
    "#Then add a print command to be able to execute this list in a real code\n",
    "print(\"List of scientists:\", scientists)"
   ]
  },
  {
   "cell_type": "markdown",
   "id": "45688118",
   "metadata": {},
   "source": [
    "Algorithm Workbench Question 2"
   ]
  },
  {
   "cell_type": "code",
   "execution_count": 5,
   "id": "89496fbe",
   "metadata": {},
   "outputs": [
    {
     "name": "stdout",
     "output_type": "stream",
     "text": [
      "Steven\n",
      "Allison\n",
      "Robert\n",
      "David\n"
     ]
    }
   ],
   "source": [
    "#Create a list of names\n",
    "names = [\"Steven\", \"Allison\", \"Robert\", \"David\"]\n",
    "\n",
    "#Use for command to print out these names in a list\n",
    "for name in names:\n",
    "    print(name)"
   ]
  },
  {
   "cell_type": "markdown",
   "id": "f8bb5778",
   "metadata": {},
   "source": [
    "Programming Exercises 1"
   ]
  },
  {
   "cell_type": "code",
   "execution_count": 3,
   "id": "ac9a93a3",
   "metadata": {},
   "outputs": [
    {
     "name": "stdout",
     "output_type": "stream",
     "text": [
      "Enter sales for Monday: $200\n",
      "Enter sales for Tuesday: $250\n",
      "Enter sales for Wednesday: $400\n",
      "Enter sales for Thursday: $900\n",
      "Enter sales for Friday: $350\n",
      "Enter sales for Saturday: $1200\n",
      "Enter sales for Sunday: $1100\n",
      "\n",
      "Total sales for the week: $4400.00\n"
     ]
    }
   ],
   "source": [
    "def main():\n",
    "    # Initialize an empty list to store sales for each day\n",
    "    sales = []\n",
    "\n",
    "    # Prompt the user to enter sales for each day of the week\n",
    "    for day in ['Monday', 'Tuesday', 'Wednesday', 'Thursday', 'Friday', 'Saturday', 'Sunday']:\n",
    "        sales_input = float(input(f\"Enter sales for {day}: $\"))\n",
    "        sales.append(sales_input)\n",
    "\n",
    "    # Calculate the total sales for the week\n",
    "    total_sales = sum(sales)\n",
    "\n",
    "    # Display the total sales for the week\n",
    "    print(f\"\\nTotal sales for the week: ${total_sales:.2f}\")\n",
    "    \n",
    "if __name__ == \"__main__\":\n",
    "    main()\n"
   ]
  },
  {
   "cell_type": "raw",
   "id": "f81357dd",
   "metadata": {},
   "source": [
    "Programming Exercise 4"
   ]
  },
  {
   "cell_type": "code",
   "execution_count": 3,
   "id": "1bf19b8b",
   "metadata": {},
   "outputs": [
    {
     "name": "stdout",
     "output_type": "stream",
     "text": [
      "Enter number 1: 5\n",
      "Enter number 2: 4\n",
      "Enter number 3: 7\n",
      "Enter number 4: 8\n",
      "Enter number 5: 1\n",
      "Enter number 6: 2\n",
      "Enter number 7: 9\n",
      "Enter number 8: 1\n",
      "Enter number 9: 2\n",
      "Enter number 10: 3\n",
      "Enter number 11: 11\n",
      "Enter number 12: 14\n",
      "Enter number 13: 16\n",
      "Enter number 14: 14\n",
      "Enter number 15: 16\n",
      "Enter number 16: 77\n",
      "Enter number 17: 53\n",
      "Enter number 18: 34\n",
      "Enter number 19: 56\n",
      "Enter number 20: 7\n",
      "\n",
      "Lowest number: 1.0\n",
      "Highest number: 77.0\n",
      "Total: 340.0\n",
      "Average: 17.0\n"
     ]
    }
   ],
   "source": [
    "def main():\n",
    "    # Initialize an empty list to store the numbers\n",
    "    numbers = []\n",
    "\n",
    "    # Prompt the user to enter 20 numbers\n",
    "    for i in range(20):\n",
    "        number = float(input(f\"Enter number {i + 1}: \"))\n",
    "        numbers.append(number)\n",
    "\n",
    "    # Find the lowest number in the list\n",
    "    lowest_number = min(numbers)\n",
    "\n",
    "    # Find the highest number in the list\n",
    "    highest_number = max(numbers)\n",
    "\n",
    "    # Calculate the total of the numbers in the list\n",
    "    total = sum(numbers)\n",
    "\n",
    "    # Calculate the average of the numbers in the list\n",
    "    average = total / len(numbers)\n",
    "\n",
    "    # Display the results\n",
    "    print(f\"\\nLowest number: {lowest_number}\")\n",
    "    print(f\"Highest number: {highest_number}\")\n",
    "    print(f\"Total: {total}\")\n",
    "    print(f\"Average: {average}\")\n",
    "\n",
    "if __name__ == \"__main__\":\n",
    "    main()"
   ]
  },
  {
   "cell_type": "markdown",
   "id": "0f6aff08",
   "metadata": {},
   "source": [
    "Programming Exercise 2"
   ]
  },
  {
   "cell_type": "code",
   "execution_count": 2,
   "id": "38fcce35",
   "metadata": {},
   "outputs": [
    {
     "name": "stdout",
     "output_type": "stream",
     "text": [
      "Lottery Numbers:\n",
      "9 0 6 3 9 8 5 "
     ]
    }
   ],
   "source": [
    "import random\n",
    "\n",
    "def generate_lottery_number():\n",
    "    # Initialize an empty list to store the lottery numbers\n",
    "    lottery_numbers = []\n",
    "\n",
    "    # Generate seven random numbers and add them to the list\n",
    "    for _ in range(7):\n",
    "        lottery_numbers.append(random.randint(0, 9))\n",
    "\n",
    "    return lottery_numbers\n",
    "\n",
    "def main():\n",
    "    # Generate the lottery number\n",
    "    lottery_numbers = generate_lottery_number()\n",
    "\n",
    "    # Display the contents of the list\n",
    "    print(\"Lottery Numbers:\")\n",
    "    for number in lottery_numbers:\n",
    "        print(number, end=\" \")\n",
    "\n",
    "if __name__ == \"__main__\":\n",
    "    main()"
   ]
  },
  {
   "cell_type": "code",
   "execution_count": null,
   "id": "0de47e9b",
   "metadata": {},
   "outputs": [],
   "source": []
  }
 ],
 "metadata": {
  "kernelspec": {
   "display_name": "Python 3 (ipykernel)",
   "language": "python",
   "name": "python3"
  },
  "language_info": {
   "codemirror_mode": {
    "name": "ipython",
    "version": 3
   },
   "file_extension": ".py",
   "mimetype": "text/x-python",
   "name": "python",
   "nbconvert_exporter": "python",
   "pygments_lexer": "ipython3",
   "version": "3.11.5"
  }
 },
 "nbformat": 4,
 "nbformat_minor": 5
}
