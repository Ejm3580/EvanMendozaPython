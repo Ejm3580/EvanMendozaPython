{
 "cells": [
  {
   "cell_type": "markdown",
   "id": "7aa9da82",
   "metadata": {},
   "source": [
    "## Coding Set 7\n",
    "\n",
    "Algorithm Workbench Question 1"
   ]
  },
  {
   "cell_type": "code",
   "execution_count": 2,
   "id": "90f24862",
   "metadata": {},
   "outputs": [
    {
     "name": "stdout",
     "output_type": "stream",
     "text": [
      "List of scientists: ['Einstein', 'Newton', 'Copernicus', 'Kepler']\n"
     ]
    }
   ],
   "source": [
    "#Scientists will act as the variable and the following list will add the names\n",
    "scientists = [\"Einstein\", \"Newton\", \"Copernicus\", \"Kepler\"]\n",
    "\n",
    "#Then add a print command to be able to execute this list in a real code\n",
    "print(\"List of scientists:\", scientists)"
   ]
  },
  {
   "cell_type": "markdown",
   "id": "45688118",
   "metadata": {},
   "source": [
    "Algorithm Workbench Question 2"
   ]
  },
  {
   "cell_type": "code",
   "execution_count": 5,
   "id": "89496fbe",
   "metadata": {},
   "outputs": [
    {
     "name": "stdout",
     "output_type": "stream",
     "text": [
      "Steven\n",
      "Allison\n",
      "Robert\n",
      "David\n"
     ]
    }
   ],
   "source": [
    "#Create a list of names\n",
    "names = [\"Steven\", \"Allison\", \"Robert\", \"David\"]\n",
    "\n",
    "#Use for command to print out these names in a list\n",
    "for name in names:\n",
    "    print(name)"
   ]
  },
  {
   "cell_type": "code",
   "execution_count": null,
   "id": "58946bb2",
   "metadata": {},
   "outputs": [],
   "source": []
  }
 ],
 "metadata": {
  "kernelspec": {
   "display_name": "Python 3 (ipykernel)",
   "language": "python",
   "name": "python3"
  },
  "language_info": {
   "codemirror_mode": {
    "name": "ipython",
    "version": 3
   },
   "file_extension": ".py",
   "mimetype": "text/x-python",
   "name": "python",
   "nbconvert_exporter": "python",
   "pygments_lexer": "ipython3",
   "version": "3.11.5"
  }
 },
 "nbformat": 4,
 "nbformat_minor": 5
}
