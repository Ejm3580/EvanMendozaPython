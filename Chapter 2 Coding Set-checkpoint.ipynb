{
 "cells": [
  {
   "cell_type": "code",
   "execution_count": null,
   "id": "63deb632",
   "metadata": {},
   "outputs": [],
   "source": [
    "# Chapter 2 Exercises\n",
    "\n"
   ]
  },
  {
   "cell_type": "markdown",
   "id": "bd4eade1",
   "metadata": {},
   "source": [
    "## Algorithm Workbench - Number 1\n",
    "\n",
    "Write Python code that prompts the user to enter his or her height and assigns the user’s input to a variable named height."
   ]
  },
  {
   "cell_type": "code",
   "execution_count": 3,
   "id": "11a50baa",
   "metadata": {},
   "outputs": [
    {
     "name": "stdout",
     "output_type": "stream",
     "text": [
      "How tall are you? 6'0\n",
      "How much do you weight? 170\n",
      "So you are 6'0 170\n"
     ]
    }
   ],
   "source": [
    "#Get users height\n",
    "height = input('How tall are you? ')\n",
    "\n",
    "#Get users weight\n",
    "weight = input('How much do you weight? ')\n",
    "\n",
    "#Repeat users measurements\n",
    "print('So you are', height, weight)"
   ]
  },
  {
   "cell_type": "markdown",
   "id": "b82279d1",
   "metadata": {},
   "source": [
    "## Programming Exercise - Number 1\n",
    "\n",
    "Write a program that displays the following information:\n",
    "                \n",
    "                  Your name\n",
    "                \n",
    "              \n",
    "                \n",
    "                  Your address, with city, state, and ZIP\n",
    "                \n",
    "              \n",
    "                \n",
    "                  Your telephone number\n",
    "                \n",
    "              \n",
    "                \n",
    "                  Your college major"
   ]
  },
  {
   "cell_type": "code",
   "execution_count": 4,
   "id": "aba7f125",
   "metadata": {},
   "outputs": [
    {
     "name": "stdout",
     "output_type": "stream",
     "text": [
      "Evan Mendoza\n",
      "1957 Mt. Crumpit Drive, North Whoville, Whostate, 0091\n",
      "1234567890\n",
      "General Associate\n"
     ]
    }
   ],
   "source": [
    "#This program will display my made up name, address, city, state, zip, phone number, and college major\n",
    "print('Evan Mendoza')\n",
    "print('1957 Mt. Crumpit Drive, North Whoville, Whostate, 0091')\n",
    "print('1234567890')\n",
    "print('General Associate')"
   ]
  },
  {
   "cell_type": "code",
   "execution_count": null,
   "id": "bf22b6a2",
   "metadata": {},
   "outputs": [],
   "source": []
  }
 ],
 "metadata": {
  "kernelspec": {
   "display_name": "Python 3 (ipykernel)",
   "language": "python",
   "name": "python3"
  },
  "language_info": {
   "codemirror_mode": {
    "name": "ipython",
    "version": 3
   },
   "file_extension": ".py",
   "mimetype": "text/x-python",
   "name": "python",
   "nbconvert_exporter": "python",
   "pygments_lexer": "ipython3",
   "version": "3.11.5"
  }
 },
 "nbformat": 4,
 "nbformat_minor": 5
}
