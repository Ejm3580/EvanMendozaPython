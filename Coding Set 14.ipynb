{
 "cells": [
  {
   "cell_type": "markdown",
   "id": "57ecb0be",
   "metadata": {},
   "source": [
    "## Coding Set 14"
   ]
  },
  {
   "cell_type": "markdown",
   "id": "1e4549c4",
   "metadata": {},
   "source": [
    "Programming Exercise 2"
   ]
  },
  {
   "cell_type": "code",
   "execution_count": null,
   "id": "8bf7fdfb",
   "metadata": {},
   "outputs": [],
   "source": [
    "import sqlite3\n",
    "\n",
    "#Function to create the database and table if they don't exist\\\n",
    "def create_database():\n",
    "    #Connect to the database file/create it\n",
    "    conn = sqlite3.connect('phonebook.db')\n",
    "    #Create cursor object to execute SQL queries\n",
    "    cursor = conn.cursor()\n",
    "    #Create Entries table if it doesn't exist\n",
    "    cursor.execute('''\n",
    "        CREATE TABLE IF NOT EXISTS Entries (\n",
    "            id INTEGER PRIMARY KEY,\n",
    "            name TEXT,\n",
    "            phone_number TEXT\n",
    "        )\n",
    "    ''')\n",
    "    #Commit the transaction and close the connection\n",
    "    conn.commit()\n",
    "    conn.close()\n",
    "    \n",
    "#Function to add a new entry to the phonebook\n",
    "def add_entry(name, phone_number):\n",
    "    #Connect to the database\n",
    "    conn = sqlite3.connect('phonebook.db')\n",
    "    #Create a cursor object\n",
    "    cursor = conn.cursor()\n",
    "    #Insert the new entry into the Entries table\n",
    "    cursor.execute('INSERT INTO Entries (name, phone_number) VALUES (?, ?)', (name, phone_number))\n",
    "    #Commit the transactions and close the connection\n",
    "    conn.commit()\n",
    "    conn.close()\n",
    "    \n",
    "    "
   ]
  }
 ],
 "metadata": {
  "kernelspec": {
   "display_name": "Python 3 (ipykernel)",
   "language": "python",
   "name": "python3"
  },
  "language_info": {
   "codemirror_mode": {
    "name": "ipython",
    "version": 3
   },
   "file_extension": ".py",
   "mimetype": "text/x-python",
   "name": "python",
   "nbconvert_exporter": "python",
   "pygments_lexer": "ipython3",
   "version": "3.11.5"
  }
 },
 "nbformat": 4,
 "nbformat_minor": 5
}
