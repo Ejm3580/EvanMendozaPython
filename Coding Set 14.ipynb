{
 "cells": [
  {
   "cell_type": "markdown",
   "id": "f43d6f65",
   "metadata": {},
   "source": [
    "## Coding Set 14"
   ]
  },
  {
   "cell_type": "markdown",
   "id": "d2b2605b",
   "metadata": {},
   "source": [
    "Programming Exercise 2"
   ]
  },
  {
   "cell_type": "code",
   "execution_count": null,
   "id": "f10b0c2f",
   "metadata": {},
   "outputs": [],
   "source": [
    "import sqlite3\n",
    "\n",
    "#Function to create the database and table if they don't exist\\\n",
    "def create_database():\n",
    "    #Connect to the database file/create it\n",
    "    conn = sqlite3.connect('phonebook.db')\n",
    "    #Create cursor object to execute SQL queries\n",
    "    cursor = conn.cursor()\n",
    "    #Create Entries table if it doesn't exist\n",
    "    cursor.execute('''\n",
    "        CREATE TABLE IF NOT EXISTS Entries (\n",
    "            id INTEGER PRIMARY KEY,\n",
    "            name TEXT,\n",
    "            phone_number TEXT\n",
    "        )\n",
    "    ''')\n",
    "    #Commit the transaction and close the connection\n",
    "    conn.commit()\n",
    "    conn.close()\n",
    "    "
   ]
  }
 ],
 "metadata": {
  "kernelspec": {
   "display_name": "Python 3 (ipykernel)",
   "language": "python",
   "name": "python3"
  },
  "language_info": {
   "codemirror_mode": {
    "name": "ipython",
    "version": 3
   },
   "file_extension": ".py",
   "mimetype": "text/x-python",
   "name": "python",
   "nbconvert_exporter": "python",
   "pygments_lexer": "ipython3",
   "version": "3.11.5"
  }
 },
 "nbformat": 4,
 "nbformat_minor": 5
}
