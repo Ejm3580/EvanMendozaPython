{
 "cells": [
  {
   "cell_type": "markdown",
   "id": "24092f8e",
   "metadata": {},
   "source": [
    "## Coding Set 14"
   ]
  },
  {
   "cell_type": "markdown",
   "id": "59d3c4a5",
   "metadata": {},
   "source": [
    "Programming Exercise 2"
   ]
  },
  {
   "cell_type": "code",
   "execution_count": 2,
   "id": "b1b6360e",
   "metadata": {},
   "outputs": [
    {
     "ename": "OperationalError",
     "evalue": "database is locked",
     "output_type": "error",
     "traceback": [
      "\u001b[1;31m---------------------------------------------------------------------------\u001b[0m",
      "\u001b[1;31mOperationalError\u001b[0m                          Traceback (most recent call last)",
      "Cell \u001b[1;32mIn[2], line 73\u001b[0m\n\u001b[0;32m     70\u001b[0m     conn\u001b[38;5;241m.\u001b[39mclose()\n\u001b[0;32m     72\u001b[0m \u001b[38;5;66;03m# Create the database and table if they don't exist\u001b[39;00m\n\u001b[1;32m---> 73\u001b[0m create_database()\n\u001b[0;32m     75\u001b[0m \u001b[38;5;66;03m# Example usage:\u001b[39;00m\n\u001b[0;32m     76\u001b[0m add_entry(\u001b[38;5;124m\"\u001b[39m\u001b[38;5;124mJohn Doe\u001b[39m\u001b[38;5;124m\"\u001b[39m, \u001b[38;5;124m\"\u001b[39m\u001b[38;5;124m123-456-7890\u001b[39m\u001b[38;5;124m\"\u001b[39m)\n",
      "Cell \u001b[1;32mIn[2], line 10\u001b[0m, in \u001b[0;36mcreate_database\u001b[1;34m()\u001b[0m\n\u001b[0;32m      8\u001b[0m cursor \u001b[38;5;241m=\u001b[39m conn\u001b[38;5;241m.\u001b[39mcursor()\n\u001b[0;32m      9\u001b[0m \u001b[38;5;66;03m# Create the Entries table if it doesn't exist\u001b[39;00m\n\u001b[1;32m---> 10\u001b[0m cursor\u001b[38;5;241m.\u001b[39mexecute(\u001b[38;5;124m'''\u001b[39m\n\u001b[0;32m     11\u001b[0m \u001b[38;5;124m    CREATE TABLE IF NOT EXISTS Entries (\u001b[39m\n\u001b[0;32m     12\u001b[0m \u001b[38;5;124m        id INTEGER PRIMARY KEY,\u001b[39m\n\u001b[0;32m     13\u001b[0m \u001b[38;5;124m        name TEXT,\u001b[39m\n\u001b[0;32m     14\u001b[0m \u001b[38;5;124m        phone_number TEXT\u001b[39m\n\u001b[0;32m     15\u001b[0m \u001b[38;5;124m    )\u001b[39m\n\u001b[0;32m     16\u001b[0m \u001b[38;5;124m\u001b[39m\u001b[38;5;124m'''\u001b[39m)\n\u001b[0;32m     17\u001b[0m \u001b[38;5;66;03m# Commit the transaction and close the connection\u001b[39;00m\n\u001b[0;32m     18\u001b[0m conn\u001b[38;5;241m.\u001b[39mcommit()\n",
      "\u001b[1;31mOperationalError\u001b[0m: database is locked"
     ]
    }
   ],
   "source": [
    "import sqlite3\n",
    "\n",
    "# Function to create the database and table if they don't exist\n",
    "def create_database():\n",
    "    # Connect to the database file (create it if it doesn't exist)\n",
    "    conn = sqlite3.connect('phonebook.db')\n",
    "    # Create a cursor object to execute SQL queries\n",
    "    cursor = conn.cursor()\n",
    "    # Create the Entries table if it doesn't exist\n",
    "    cursor.execute('''\n",
    "        CREATE TABLE IF NOT EXISTS Entries (\n",
    "            id INTEGER PRIMARY KEY,\n",
    "            name TEXT,\n",
    "            phone_number TEXT\n",
    "        )\n",
    "    ''')\n",
    "    # Commit the transaction and close the connection\n",
    "    conn.commit()\n",
    "    conn.close()\n",
    "\n",
    "# Function to add a new entry to the phonebook\n",
    "def add_entry(name, phone_number):\n",
    "    # Connect to the database\n",
    "    conn = sqlite3.connect('phonebook.db')\n",
    "    # Create a cursor object\n",
    "    cursor = conn.cursor()\n",
    "    # Insert the new entry into the Entries table\n",
    "    cursor.execute('INSERT INTO Entries (name, phone_number) VALUES (?, ?)', (name, phone_number))\n",
    "    # Commit the transaction and close the connection\n",
    "    conn.commit()\n",
    "    conn.close()\n",
    "\n",
    "# Function to look up a person's phone number\n",
    "def lookup_entry(name):\n",
    "    # Connect to the database\n",
    "    conn = sqlite3.connect('phonebook.db')\n",
    "    # Create a cursor object\n",
    "    cursor = conn.cursor()\n",
    "    # Execute a SELECT query to retrieve the phone number for the given name\n",
    "    cursor.execute('SELECT phone_number FROM Entries WHERE name = ?', (name,))\n",
    "    # Fetch the result (if any)\n",
    "    result = cursor.fetchone()\n",
    "    # Close the connection\n",
    "    conn.close()\n",
    "    # Return the phone number if found, otherwise return None\n",
    "    return result[0] if result else None\n",
    "\n",
    "# Function to update a person's phone number\n",
    "def update_entry(name, new_phone_number):\n",
    "    # Connect to the database\n",
    "    conn = sqlite3.connect('phonebook.db')\n",
    "    # Create a cursor object\n",
    "    cursor = conn.cursor()\n",
    "    # Execute an UPDATE query to change the phone number for the given name\n",
    "    cursor.execute('UPDATE Entries SET phone_number = ? WHERE name = ?', (new_phone_number, name))\n",
    "    # Commit the transaction and close the connection\n",
    "    conn.commit()\n",
    "    conn.close()\n",
    "\n",
    "# Function to delete a specified entry\n",
    "def delete_entry(name):\n",
    "    # Connect to the database\n",
    "    conn = sqlite3.connect('phonebook.db')\n",
    "    # Create a cursor object\n",
    "    cursor = conn.cursor()\n",
    "    # Execute a DELETE query to remove the entry for the given name\n",
    "    cursor.execute('DELETE FROM Entries WHERE name = ?', (name,))\n",
    "    # Commit the transaction and close the connection\n",
    "    conn.commit()\n",
    "    conn.close()\n",
    "\n",
    "# Create the database and table if they don't exist\n",
    "create_database()\n",
    "\n",
    "# Example usage:\n",
    "add_entry(\"John Doe\", \"123-456-7890\")\n",
    "add_entry(\"Jane Smith\", \"987-654-3210\")\n",
    "\n",
    "print(\"Phone number for John Doe:\", lookup_entry(\"John Doe\"))\n",
    "\n",
    "update_entry(\"John Doe\", \"111-222-3333\")\n",
    "print(\"Updated phone number for John Doe:\", lookup_entry(\"John Doe\"))\n",
    "\n",
    "delete_entry(\"Jane Smith\")\n",
    "print(\"Deleted Jane Smith's entry.\")"
   ]
  }
 ],
 "metadata": {
  "kernelspec": {
   "display_name": "Python 3 (ipykernel)",
   "language": "python",
   "name": "python3"
  },
  "language_info": {
   "codemirror_mode": {
    "name": "ipython",
    "version": 3
   },
   "file_extension": ".py",
   "mimetype": "text/x-python",
   "name": "python",
   "nbconvert_exporter": "python",
   "pygments_lexer": "ipython3",
   "version": "3.11.5"
  }
 },
 "nbformat": 4,
 "nbformat_minor": 5
}
