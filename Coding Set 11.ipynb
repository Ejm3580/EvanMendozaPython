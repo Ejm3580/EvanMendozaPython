{
 "cells": [
  {
   "cell_type": "markdown",
   "id": "fd60e2bc",
   "metadata": {},
   "source": [
    "## Coding Set 11"
   ]
  },
  {
   "cell_type": "raw",
   "id": "a0c2a2fe",
   "metadata": {},
   "source": [
    "Programming Exercise 1"
   ]
  },
  {
   "cell_type": "code",
   "execution_count": 1,
   "id": "8636db7f",
   "metadata": {},
   "outputs": [
    {
     "ename": "NameError",
     "evalue": "name 'name' is not defined",
     "output_type": "error",
     "traceback": [
      "\u001b[1;31m---------------------------------------------------------------------------\u001b[0m",
      "\u001b[1;31mNameError\u001b[0m                                 Traceback (most recent call last)",
      "Cell \u001b[1;32mIn[1], line 79\u001b[0m\n\u001b[0;32m     77\u001b[0m \u001b[38;5;66;03m#Execute command\u001b[39;00m\n\u001b[0;32m     78\u001b[0m \u001b[38;5;28;01mif\u001b[39;00m \u001b[38;5;18m__name__\u001b[39m \u001b[38;5;241m==\u001b[39m \u001b[38;5;124m\"\u001b[39m\u001b[38;5;124m__main__\u001b[39m\u001b[38;5;124m\"\u001b[39m:\n\u001b[1;32m---> 79\u001b[0m     main()\n",
      "Cell \u001b[1;32mIn[1], line 56\u001b[0m, in \u001b[0;36mmain\u001b[1;34m()\u001b[0m\n\u001b[0;32m     54\u001b[0m \u001b[38;5;28;01mdef\u001b[39;00m \u001b[38;5;21mmain\u001b[39m():\n\u001b[0;32m     55\u001b[0m     \u001b[38;5;66;03m#Prompt user to enter employee information\u001b[39;00m\n\u001b[1;32m---> 56\u001b[0m     name \u001b[38;5;241m-\u001b[39m \u001b[38;5;28minput\u001b[39m(\u001b[38;5;124m\"\u001b[39m\u001b[38;5;124mEnter employee name: \u001b[39m\u001b[38;5;124m\"\u001b[39m)\n\u001b[0;32m     57\u001b[0m     emp_number \u001b[38;5;241m=\u001b[39m \u001b[38;5;28minput\u001b[39m(\u001b[38;5;124m\"\u001b[39m\u001b[38;5;124mEnter employee number: \u001b[39m\u001b[38;5;124m\"\u001b[39m)\n\u001b[0;32m     58\u001b[0m     shift_number \u001b[38;5;241m=\u001b[39m \u001b[38;5;28mint\u001b[39m(\u001b[38;5;28minput\u001b[39m(\u001b[38;5;124m\"\u001b[39m\u001b[38;5;124mEnter shift number (1 for day, 2 for night): \u001b[39m\u001b[38;5;124m\"\u001b[39m))\n",
      "\u001b[1;31mNameError\u001b[0m: name 'name' is not defined"
     ]
    }
   ],
   "source": [
    "#First define the Employee class\n",
    "class Employee:\n",
    "    #Constructor method to intialize the object with name and employee number\n",
    "    def __init__(self, name, emp_number):\n",
    "        #Private instance variables to store employee name and number\n",
    "        self.__name = name\n",
    "        self.__emp_number = emp_number\n",
    "        \n",
    "    #Accessor method to get employee name\n",
    "    def get_name(self):\n",
    "        return self.__name\n",
    "    \n",
    "    #Accessor method to get employee number\n",
    "    def get_emp_number(self):\n",
    "        return self.__emp_number\n",
    "    \n",
    "    #Mutator method to set employee name\n",
    "    def set_name(self, name):\n",
    "        self.__name = name\n",
    "        \n",
    "    #Mutator method to set employee number\n",
    "    def set_emp_number(self, emp_number):\n",
    "        self.__emp_number = emp_number\n",
    "        \n",
    "        \n",
    "#Define the ShiftEmployee class which is a subclass of Employee\n",
    "class ShiftEmployee(Employee):\n",
    "    #Constructor method to initialize the object with name, employee number, shift number, and hourly pay rate\n",
    "    def __init__(self, name, emp_number, shift_number, hourly_pay_rate):\n",
    "        #Call the constructor of the superclass (Employee) to intitialize name and employee number\n",
    "        super().__init__(name, emp_number)\n",
    "        #Private instance variables to store shift number and hourly pay rate\n",
    "        self.__shift_number = shift_number\n",
    "        self.__hourly_pay_rate = hourly_pay_rate\n",
    "        \n",
    "    #Accessor method to get shift number\n",
    "    def get_shift_number(self):\n",
    "        return self.__shift_number\n",
    "    \n",
    "    #Accessor method to get hourly pay rate\n",
    "    def get_hourly_pay_rate(self):\n",
    "        return self.__hourly_pay_rate\n",
    "\n",
    "    #Mutator method to set shift number\n",
    "    def set_shift_number(self, shift_number):\n",
    "        self.__shift_number = shift_number\n",
    "        \n",
    "    #Mutator method to set hourly pay rate\n",
    "    def set_hourly_pay_rate(self, hourly_pay_rate):\n",
    "        self.__hourly_pay_rate = hourly_pay_rate\n",
    "        \n",
    "        \n",
    "#Main function to execute the program\n",
    "def main():\n",
    "    #Prompt user to enter employee information\n",
    "    name - input(\"Enter employee name: \")\n",
    "    emp_number = input(\"Enter employee number: \")\n",
    "    shift_number = int(input(\"Enter shift number (1 for day, 2 for night): \"))\n",
    "    hourly_pay_rate = float(input(\"Enter hourly pay rate: \"))\n",
    "    \n",
    "    #Create an object of ShiftEmployee ckass with provided information\n",
    "    emp = ShiftEmployee(name, emp_number, shift_number, hourly_pay_rate)\n",
    "    \n",
    "    #Display the employee information using accessor methods\n",
    "    print(\"\\nEmployee Information:\")\n",
    "    print(\"Name:\", emp.get_name())\n",
    "    print(\"Employee Number:\", emp.get_emp_number())\n",
    "    if emp.get_shift_number() == 1:\n",
    "        print(\"Shift: Day\")\n",
    "    elif emp.get_shift_number() == 2:\n",
    "        print(\"Shift: Night\")\n",
    "    else:\n",
    "        print(\"Invalid Shift Number\")\n",
    "    print(\"Hourly Pay Rate:\", emp.get_hourly_pay_rate())\n",
    "    \n",
    "    \n",
    "#Execute command\n",
    "if __name__ == \"__main__\":\n",
    "    main()\n",
    "    "
   ]
  },
  {
   "cell_type": "code",
   "execution_count": null,
   "id": "b6205712",
   "metadata": {},
   "outputs": [],
   "source": []
  }
 ],
 "metadata": {
  "kernelspec": {
   "display_name": "Python 3 (ipykernel)",
   "language": "python",
   "name": "python3"
  },
  "language_info": {
   "codemirror_mode": {
    "name": "ipython",
    "version": 3
   },
   "file_extension": ".py",
   "mimetype": "text/x-python",
   "name": "python",
   "nbconvert_exporter": "python",
   "pygments_lexer": "ipython3",
   "version": "3.11.5"
  }
 },
 "nbformat": 4,
 "nbformat_minor": 5
}
