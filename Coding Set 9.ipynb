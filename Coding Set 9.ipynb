{
 "cells": [
  {
   "cell_type": "markdown",
   "id": "6e613e60",
   "metadata": {},
   "source": [
    "## Coding Set 9"
   ]
  },
  {
   "cell_type": "markdown",
   "id": "c71004d1",
   "metadata": {},
   "source": [
    "Programming Exercise 2"
   ]
  },
  {
   "cell_type": "markdown",
   "id": "e82c17f7",
   "metadata": {},
   "source": [
    "Write a program that creates a dictionary containing the U.S. states as keys, and their capitals as values. (Use the Internet to get a list of the states and their capitals.) The program should then randomly quiz the user by displaying the name of a state and asking the user to enter that state’s capital. The program should keep a count of the number of correct and incorrect responses. (As an alternative to the U.S. states, the program can use the names of countries and their capitals.)"
   ]
  },
  {
   "cell_type": "code",
   "execution_count": 1,
   "id": "2923f817",
   "metadata": {},
   "outputs": [
    {
     "name": "stdout",
     "output_type": "stream",
     "text": [
      "What is the capital of Arizona? (type 'exit' to quit): 'Phoenix\n",
      "Correct\n",
      "What is the capital of Nebraska? (type 'exit' to quit): 'Lincoln\n",
      "Correct\n",
      "What is the capital of Florida? (type 'exit' to quit): 'Tallahassee\n",
      "Correct\n",
      "What is the capital of Maryland? (type 'exit' to quit): 'Washington\n",
      "Incorrect. The capital of Maryland is Annapolis\n",
      "What is the capital of Arkansas? (type 'exit' to quit): 'exit\n",
      "Quiz finished. You got 3 correct and 1 incorrect.\n"
     ]
    }
   ],
   "source": [
    "#Random module will be used later to make the random selection of states for the quiz\n",
    "import random\n",
    "\n",
    "#This is my dictionary containing the states as the keys and the capitals as the values\n",
    "states_capitals = {\n",
    "    \"Alabama\": \"Montgomery\",\n",
    "    \"Alaska\": \"Juneau\",\n",
    "    \"Arizona\": \"Phoenix\",\n",
    "    \"Arkansas\": \"Little Rock\",\n",
    "    \"California\": \"Sacramento\",\n",
    "    \"Colorado\": \"Denver\",\n",
    "    \"Connecticut\": \"Hartford\",\n",
    "    \"Delaware\": \"Dover\",\n",
    "    \"Florida\": \"Tallahassee\",\n",
    "    \"Georgia\": \"Atlanta\",\n",
    "    \"Hawaii\": \"Honolulu\",\n",
    "    \"Idaho\": \"Boise\",\n",
    "    \"Illinois\": \"Springfield\",\n",
    "    \"Indiana\": \"Indianapolis\",\n",
    "    \"Iowa\": \"Des Moines\",\n",
    "    \"Kansas\": \"Topeka\",\n",
    "    \"Kentucky\": \"Frankfort\",\n",
    "    \"Louisiana\": \"Baton Rouge\",\n",
    "    \"Maine\": \"Augusta\",\n",
    "    \"Maryland\": \"Annapolis\",\n",
    "    \"Massachusetts\": \"Boston\",\n",
    "    \"Michigan\": \"Lansing\",\n",
    "    \"Minnesota\": \"St. Paul\",\n",
    "    \"Mississippi\": \"Jackson\",\n",
    "    \"Missouri\": \"Jefferson City\",\n",
    "    \"Montana\": \"Helena\",\n",
    "    \"Nebraska\": \"Lincoln\",\n",
    "    \"Nevada\": \"Carson City\",\n",
    "    \"New Hampshire\": \"Concord\",\n",
    "    \"New Jersey\": \"Trenton\",\n",
    "    \"New Mexico\": \"Santa Fe\",\n",
    "    \"New York\": \"Albany\",\n",
    "    \"North Carolina\": \"Raleigh\",\n",
    "    \"North Dakota\": \"Bismarck\",\n",
    "    \"Ohio\": \"Columbus\",\n",
    "    \"Oklahoma\": \"Oklahoma City\",\n",
    "    \"Oregon\": \"Salem\",\n",
    "    \"Pennsylvania\": \"Harrisburg\",\n",
    "    \"Rhode Island\": \"Providence\",\n",
    "    \"South Carolina\": \"Columbia\",\n",
    "    \"South Dakota\": \"Pierre\",\n",
    "    \"Tennessee\": \"Nashville\",\n",
    "    \"Texas\": \"Austin\",\n",
    "    \"Utah\": \"Salt Lake City\",\n",
    "    \"Vermont\": \"Montpelier\",\n",
    "    \"Virginia\": \"Richmond\",\n",
    "    \"Washington\": \"Olympia\",\n",
    "    \"West Virginia\": \"Charleston\",\n",
    "    \"Wisconsin\": \"Madison\",\n",
    "    \"Wyoming\": \"Cheyenne\"\n",
    "}\n",
    "\n",
    "#Define the quiz function and give the starting values\n",
    "def quiz_user(states_capitals):\n",
    "    correct = 0\n",
    "    incorrect = 0\n",
    "    #Define states as a list of the keys from the dictionary\n",
    "    states = list(states_capitals.keys())\n",
    "    #While true makes the command continue to run until it is broken which will be set up later\n",
    "    while True:\n",
    "        #Make the state selection random drawing from the states list defined earlier\n",
    "        state = random.choice(states)\n",
    "        #This defines capital as the values of the key (state) drawn on by the random module\n",
    "        capital = states_capitals[state]\n",
    "        #Adding a user input for the quiz which will cal upon the randomly chosen state\n",
    "        user_input = input(f\"What is the capital of {state}? (type 'exit' to quit): '\")\n",
    "        #This is the break mentioned earlier so that if the user types exit the input will end\n",
    "        if user_input == 'exit':\n",
    "            break\n",
    "        #elif for if the user does not type exit and the values are added for if the input is correct or incorrect\n",
    "        elif user_input == capital:\n",
    "            print(\"Correct\")\n",
    "            correct += 1\n",
    "        else: \n",
    "            print (f\"Incorrect. The capital of {state} is {capital}\")\n",
    "            incorrect += 1\n",
    "    #Final print command for when the quiz is ended by the user typing exit\n",
    "    print(f\"Quiz finished. You got {correct} correct and {incorrect} incorrect.\")\n",
    "    \n",
    "quiz_user(states_capitals)"
   ]
  },
  {
   "cell_type": "code",
   "execution_count": null,
   "id": "94a22929",
   "metadata": {},
   "outputs": [],
   "source": []
  }
 ],
 "metadata": {
  "kernelspec": {
   "display_name": "Python 3 (ipykernel)",
   "language": "python",
   "name": "python3"
  },
  "language_info": {
   "codemirror_mode": {
    "name": "ipython",
    "version": 3
   },
   "file_extension": ".py",
   "mimetype": "text/x-python",
   "name": "python",
   "nbconvert_exporter": "python",
   "pygments_lexer": "ipython3",
   "version": "3.11.5"
  }
 },
 "nbformat": 4,
 "nbformat_minor": 5
}
