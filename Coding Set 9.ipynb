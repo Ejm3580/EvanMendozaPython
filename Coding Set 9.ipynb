{
 "cells": [
  {
   "cell_type": "markdown",
   "id": "6e613e60",
   "metadata": {},
   "source": [
    "## Coding Set 9"
   ]
  },
  {
   "cell_type": "markdown",
   "id": "c71004d1",
   "metadata": {},
   "source": [
    "Programming Exercise 2"
   ]
  },
  {
   "cell_type": "markdown",
   "id": "e82c17f7",
   "metadata": {},
   "source": [
    "Write a program that creates a dictionary containing the U.S. states as keys, and their capitals as values. (Use the Internet to get a list of the states and their capitals.) The program should then randomly quiz the user by displaying the name of a state and asking the user to enter that state’s capital. The program should keep a count of the number of correct and incorrect responses. (As an alternative to the U.S. states, the program can use the names of countries and their capitals.)"
   ]
  },
  {
   "cell_type": "code",
   "execution_count": 1,
   "id": "2923f817",
   "metadata": {},
   "outputs": [
    {
     "name": "stdout",
     "output_type": "stream",
     "text": [
      "What is the capital of Maryland? (type 'exit' to quit): 'Annapolis\n",
      "Correct\n",
      "What is the capital of Virginia? (type 'exit' to quit): 'Richmond\n",
      "Correct\n",
      "What is the capital of Vermont? (type 'exit' to quit): 'Utopia\n",
      "Incorrect. The capital of Vermont is Montpelier\n",
      "What is the capital of California? (type 'exit' to quit): 'exit\n",
      "Quiz finished. You got 2 correct and 1 incorrect.\n"
     ]
    }
   ],
   "source": [
    "import random\n",
    "\n",
    "states_capitals = {\n",
    "    \"Alabama\": \"Montgomery\",\n",
    "    \"Alaska\": \"Juneau\",\n",
    "    \"Arizona\": \"Phoenix\",\n",
    "    \"Arkansas\": \"Little Rock\",\n",
    "    \"California\": \"Sacramento\",\n",
    "    \"Colorado\": \"Denver\",\n",
    "    \"Connecticut\": \"Hartford\",\n",
    "    \"Delaware\": \"Dover\",\n",
    "    \"Florida\": \"Tallahassee\",\n",
    "    \"Georgia\": \"Atlanta\",\n",
    "    \"Hawaii\": \"Honolulu\",\n",
    "    \"Idaho\": \"Boise\",\n",
    "    \"Illinois\": \"Springfield\",\n",
    "    \"Indiana\": \"Indianapolis\",\n",
    "    \"Iowa\": \"Des Moines\",\n",
    "    \"Kansas\": \"Topeka\",\n",
    "    \"Kentucky\": \"Frankfort\",\n",
    "    \"Louisiana\": \"Baton Rouge\",\n",
    "    \"Maine\": \"Augusta\",\n",
    "    \"Maryland\": \"Annapolis\",\n",
    "    \"Massachusetts\": \"Boston\",\n",
    "    \"Michigan\": \"Lansing\",\n",
    "    \"Minnesota\": \"St. Paul\",\n",
    "    \"Mississippi\": \"Jackson\",\n",
    "    \"Missouri\": \"Jefferson City\",\n",
    "    \"Montana\": \"Helena\",\n",
    "    \"Nebraska\": \"Lincoln\",\n",
    "    \"Nevada\": \"Carson City\",\n",
    "    \"New Hampshire\": \"Concord\",\n",
    "    \"New Jersey\": \"Trenton\",\n",
    "    \"New Mexico\": \"Santa Fe\",\n",
    "    \"New York\": \"Albany\",\n",
    "    \"North Carolina\": \"Raleigh\",\n",
    "    \"North Dakota\": \"Bismarck\",\n",
    "    \"Ohio\": \"Columbus\",\n",
    "    \"Oklahoma\": \"Oklahoma City\",\n",
    "    \"Oregon\": \"Salem\",\n",
    "    \"Pennsylvania\": \"Harrisburg\",\n",
    "    \"Rhode Island\": \"Providence\",\n",
    "    \"South Carolina\": \"Columbia\",\n",
    "    \"South Dakota\": \"Pierre\",\n",
    "    \"Tennessee\": \"Nashville\",\n",
    "    \"Texas\": \"Austin\",\n",
    "    \"Utah\": \"Salt Lake City\",\n",
    "    \"Vermont\": \"Montpelier\",\n",
    "    \"Virginia\": \"Richmond\",\n",
    "    \"Washington\": \"Olympia\",\n",
    "    \"West Virginia\": \"Charleston\",\n",
    "    \"Wisconsin\": \"Madison\",\n",
    "    \"Wyoming\": \"Cheyenne\"\n",
    "}\n",
    "\n",
    "def quiz_user(states_capitals):\n",
    "    correct = 0\n",
    "    incorrect = 0\n",
    "    states = list(states_capitals.keys())\n",
    "    while True:\n",
    "        state = random.choice(states)\n",
    "        capital = states_capitals[state]\n",
    "        user_input = input(f\"What is the capital of {state}? (type 'exit' to quit): '\")\n",
    "        if user_input == 'exit':\n",
    "            break\n",
    "        elif user_input == capital:\n",
    "            print(\"Correct\")\n",
    "            correct += 1\n",
    "        else: \n",
    "            print (f\"Incorrect. The capital of {state} is {capital}\")\n",
    "            incorrect += 1\n",
    "    print(f\"Quiz finished. You got {correct} correct and {incorrect} incorrect.\")\n",
    "    \n",
    "quiz_user(states_capitals)"
   ]
  }
 ],
 "metadata": {
  "kernelspec": {
   "display_name": "Python 3 (ipykernel)",
   "language": "python",
   "name": "python3"
  },
  "language_info": {
   "codemirror_mode": {
    "name": "ipython",
    "version": 3
   },
   "file_extension": ".py",
   "mimetype": "text/x-python",
   "name": "python",
   "nbconvert_exporter": "python",
   "pygments_lexer": "ipython3",
   "version": "3.11.5"
  }
 },
 "nbformat": 4,
 "nbformat_minor": 5
}
