{
 "cells": [
  {
   "cell_type": "markdown",
   "id": "eda3da42",
   "metadata": {},
   "source": [
    "## Coding Set 4"
   ]
  },
  {
   "cell_type": "markdown",
   "id": "deba9dc1",
   "metadata": {},
   "source": [
    "Algorithm Workbench Question 1"
   ]
  },
  {
   "cell_type": "code",
   "execution_count": null,
   "id": "e7cf118d",
   "metadata": {},
   "outputs": [
    {
     "name": "stdout",
     "output_type": "stream",
     "text": [
      "Enter a number: 2\n",
      "The product of 2.0 multiplied by 10 is: 20.0\n",
      "Enter a number: 5\n",
      "The product of 5.0 multiplied by 10 is: 50.0\n",
      "Enter a number: 9\n",
      "The product of 9.0 multiplied by 10 is: 90.0\n",
      "Enter a number: 9.9\n",
      "The product of 9.9 multiplied by 10 is: 99.0\n",
      "Enter a number: 9.999\n",
      "The product of 9.999 multiplied by 10 is: 99.99000000000001\n"
     ]
    }
   ],
   "source": [
    "# Start with product at 0\n",
    "product = 0\n",
    "\n",
    "#Add while command for input less than 100\n",
    "while product <100:\n",
    "    #Assign user_input as a variable for the number inputted by user\n",
    "    user_input = float(input(\"Enter a number: \"))\n",
    "    #Redefine product as user input * 10\n",
    "    product = user_input * 10\n",
    "    #Add print command for output\n",
    "    print(f\"The product of {user_input} multiplied by 10 is: {product}\")\n",
    "\n",
    "#Add print command for when product has exceeded 100    \n",
    "print(\"The product has reached or exceeded 100. Exiting the loop.\")"
   ]
  },
  {
   "cell_type": "raw",
   "id": "52fedddd",
   "metadata": {},
   "source": [
    "Algorithm Workbench Question 3"
   ]
  },
  {
   "cell_type": "code",
   "execution_count": 6,
   "id": "6d03826d",
   "metadata": {},
   "outputs": [
    {
     "name": "stdout",
     "output_type": "stream",
     "text": [
      "0\n",
      "10\n",
      "20\n",
      "30\n",
      "40\n",
      "50\n",
      "60\n",
      "70\n",
      "80\n",
      "90\n",
      "100\n",
      "110\n",
      "120\n",
      "130\n",
      "140\n",
      "150\n",
      "160\n",
      "170\n",
      "180\n",
      "190\n",
      "200\n",
      "210\n",
      "220\n",
      "230\n",
      "240\n",
      "250\n",
      "260\n",
      "270\n",
      "280\n",
      "290\n",
      "300\n",
      "310\n",
      "320\n",
      "330\n",
      "340\n",
      "350\n",
      "360\n",
      "370\n",
      "380\n",
      "390\n",
      "400\n",
      "410\n",
      "420\n",
      "430\n",
      "440\n",
      "450\n",
      "460\n",
      "470\n",
      "480\n",
      "490\n",
      "500\n",
      "510\n",
      "520\n",
      "530\n",
      "540\n",
      "550\n",
      "560\n",
      "570\n",
      "580\n",
      "590\n",
      "600\n",
      "610\n",
      "620\n",
      "630\n",
      "640\n",
      "650\n",
      "660\n",
      "670\n",
      "680\n",
      "690\n",
      "700\n",
      "710\n",
      "720\n",
      "730\n",
      "740\n",
      "750\n",
      "760\n",
      "770\n",
      "780\n",
      "790\n",
      "800\n",
      "810\n",
      "820\n",
      "830\n",
      "840\n",
      "850\n",
      "860\n",
      "870\n",
      "880\n",
      "890\n",
      "900\n",
      "910\n",
      "920\n",
      "930\n",
      "940\n",
      "950\n",
      "960\n",
      "970\n",
      "980\n",
      "990\n",
      "1000\n"
     ]
    }
   ],
   "source": [
    "#Using for command with the range set as 0 and 1001 with 10 being how much it increments by\n",
    "for num in range(0,1001, 10):\n",
    "    print(num)"
   ]
  },
  {
   "cell_type": "code",
   "execution_count": null,
   "id": "50714d00",
   "metadata": {},
   "outputs": [],
   "source": []
  }
 ],
 "metadata": {
  "kernelspec": {
   "display_name": "Python 3 (ipykernel)",
   "language": "python",
   "name": "python3"
  },
  "language_info": {
   "codemirror_mode": {
    "name": "ipython",
    "version": 3
   },
   "file_extension": ".py",
   "mimetype": "text/x-python",
   "name": "python",
   "nbconvert_exporter": "python",
   "pygments_lexer": "ipython3",
   "version": "3.11.5"
  }
 },
 "nbformat": 4,
 "nbformat_minor": 5
}
