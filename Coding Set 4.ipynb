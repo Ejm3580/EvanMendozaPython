{
 "cells": [
  {
   "cell_type": "markdown",
   "id": "2ca9ef08",
   "metadata": {},
   "source": [
    "## Coding Set 4"
   ]
  },
  {
   "cell_type": "markdown",
   "id": "11dc4ea8",
   "metadata": {},
   "source": [
    "Algorith Workbench Question 1"
   ]
  },
  {
   "cell_type": "code",
   "execution_count": null,
   "id": "7ce1a688",
   "metadata": {},
   "outputs": [
    {
     "name": "stdout",
     "output_type": "stream",
     "text": [
      "Enter a number: 2\n",
      "The product of 2.0 multiplied by 10 is: 20.0\n",
      "Enter a number: 5\n",
      "The product of 5.0 multiplied by 10 is: 50.0\n",
      "Enter a number: 9\n",
      "The product of 9.0 multiplied by 10 is: 90.0\n",
      "Enter a number: 9.9\n",
      "The product of 9.9 multiplied by 10 is: 99.0\n",
      "Enter a number: 9.999\n",
      "The product of 9.999 multiplied by 10 is: 99.99000000000001\n"
     ]
    }
   ],
   "source": [
    "# Start with product at 0\n",
    "product = 0\n",
    "\n",
    "#Add while command for input less than 100\n",
    "while product <100:\n",
    "    #Assign user_input as a variable for the number inputted by user\n",
    "    user_input = float(input(\"Enter a number: \"))\n",
    "    #Redefine product as user input * 10\n",
    "    product = user_input * 10\n",
    "    #Add print command for output\n",
    "    print(f\"The product of {user_input} multiplied by 10 is: {product}\")\n",
    "\n",
    "#Add print command for when product has exceeded 100    \n",
    "print(\"The product has reached or exceeded 100. Exiting the loop.\")"
   ]
  },
  {
   "cell_type": "code",
   "execution_count": null,
   "id": "5cd95e23",
   "metadata": {},
   "outputs": [],
   "source": []
  }
 ],
 "metadata": {
  "kernelspec": {
   "display_name": "Python 3 (ipykernel)",
   "language": "python",
   "name": "python3"
  },
  "language_info": {
   "codemirror_mode": {
    "name": "ipython",
    "version": 3
   },
   "file_extension": ".py",
   "mimetype": "text/x-python",
   "name": "python",
   "nbconvert_exporter": "python",
   "pygments_lexer": "ipython3",
   "version": "3.11.5"
  }
 },
 "nbformat": 4,
 "nbformat_minor": 5
}
