{
 "cells": [
  {
   "cell_type": "code",
   "execution_count": null,
   "id": "c051891d",
   "metadata": {},
   "outputs": [],
   "source": [
    "# Chapter 2 Exercises\n",
    "\n"
   ]
  },
  {
   "cell_type": "markdown",
   "id": "bd4eade1",
   "metadata": {},
   "source": [
    "## Algorithm Workbench - Number 1\n",
    "\n",
    "Write Python code that prompts the user to enter his or her height and assigns the user’s input to a variable named height."
   ]
  },
  {
   "cell_type": "code",
   "execution_count": 3,
   "id": "11a50baa",
   "metadata": {},
   "outputs": [
    {
     "name": "stdout",
     "output_type": "stream",
     "text": [
      "How tall are you? 6'0\n",
      "How much do you weight? 170\n",
      "So you are 6'0 170\n"
     ]
    }
   ],
   "source": [
    "#Get users height\n",
    "height = input('How tall are you? ')\n",
    "\n",
    "#Get users weight\n",
    "weight = input('How much do you weight? ')\n",
    "\n",
    "#Repeat users measurements\n",
    "print('So you are', height, weight)"
   ]
  },
  {
   "cell_type": "markdown",
   "id": "8d6bc0dd",
   "metadata": {},
   "source": [
    "## Programming Exercise - Number 1\n",
    "\n",
    "Write a program that displays the following information:\n",
    "                \n",
    "                  Your name\n",
    "                \n",
    "              \n",
    "                \n",
    "                  Your address, with city, state, and ZIP\n",
    "                \n",
    "              \n",
    "                \n",
    "                  Your telephone number\n",
    "                \n",
    "              \n",
    "                \n",
    "                  Your college major"
   ]
  },
  {
   "cell_type": "code",
   "execution_count": 4,
   "id": "e5b1d49a",
   "metadata": {},
   "outputs": [
    {
     "name": "stdout",
     "output_type": "stream",
     "text": [
      "Evan Mendoza\n",
      "1957 Mt. Crumpit Drive, North Whoville, Whostate, 0091\n",
      "1234567890\n",
      "General Associate\n"
     ]
    }
   ],
   "source": [
    "#This program will display my made up name, address, city, state, zip, phone number, and college major\n",
    "print('Evan Mendoza')\n",
    "print('1957 Mt. Crumpit Drive, North Whoville, Whostate, 0091')\n",
    "print('1234567890')\n",
    "print('General Associate')"
   ]
  },
  {
   "cell_type": "markdown",
   "id": "3ab7d5db",
   "metadata": {},
   "source": [
    "## Programming Exercise - Number 13\n",
    "\n",
    "A vineyard owner is planting several new rows of grapevines, and needs to know how many grapevines to plant in each row. She has determined that after measuring the length of a future row, she can use the following formula to calculate the number of vines that will fit in the row, along with the trellis end-post assemblies that will need to be constructed at each end of the row:The terms in the formula are:V is the number of grapevines that will fit in the row.R is the length of the row, in feet.E is the amount of space, in feet, used by an end-post assembly.S is the space between vines, in feet.Write a program that makes the calculation for the vineyard owner. The program should ask the user to input the following:\n",
    "                \n",
    "                  The length of the row, in feet\n",
    "                \n",
    "              \n",
    "                \n",
    "                  The amount of space used by an end-post assembly, in feet\n",
    "                \n",
    "              \n",
    "                \n",
    "                  The amount of space between the vines, in feet\n",
    "                \n",
    "              Once the input data has been entered, the program should calculate and display the number of grapevines that will fit in the row."
   ]
  },
  {
   "cell_type": "code",
   "execution_count": null,
   "id": "79b892fe",
   "metadata": {},
   "outputs": [],
   "source": []
  }
 ],
 "metadata": {
  "kernelspec": {
   "display_name": "Python 3 (ipykernel)",
   "language": "python",
   "name": "python3"
  },
  "language_info": {
   "codemirror_mode": {
    "name": "ipython",
    "version": 3
   },
   "file_extension": ".py",
   "mimetype": "text/x-python",
   "name": "python",
   "nbconvert_exporter": "python",
   "pygments_lexer": "ipython3",
   "version": "3.11.5"
  }
 },
 "nbformat": 4,
 "nbformat_minor": 5
}
