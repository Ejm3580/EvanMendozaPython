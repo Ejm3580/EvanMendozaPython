{
 "cells": [
  {
   "cell_type": "markdown",
   "id": "46db2fe2",
   "metadata": {},
   "source": [
    "## Coding Set 11"
   ]
  },
  {
   "cell_type": "raw",
   "id": "0ff470d1",
   "metadata": {},
   "source": [
    "Programming Exercise 1"
   ]
  },
  {
   "cell_type": "code",
   "execution_count": null,
   "id": "b1dfc305",
   "metadata": {},
   "outputs": [],
   "source": [
    "#First define the Employee class\n",
    "class Employee:\n",
    "    #Constructor method to intialize the object with name and employee number\n",
    "    def __init__(self, name, emp_number):\n",
    "        #Private instance variables to store employee name and number\n",
    "        self.__name = name\n",
    "        self.__emp_number = emp_number\n",
    "        \n",
    "    #Accessor method to get employee name\n",
    "    def get_name(self):\n",
    "        return self.__name\n",
    "    \n",
    "    #Accessor method to get employee number\n",
    "    def get_emp_number(self):\n",
    "        return self.__emp_number\n",
    "    \n",
    "    #Mutator method to set employee name\n",
    "    def set_name(self, name):\n",
    "        self.__name = name\n",
    "        \n",
    "    #Mutator method to set employee number\n",
    "    def set_emp_number(self, emp_number):\n",
    "        self.__emp_number = emp_number\n",
    "        \n",
    "        "
   ]
  }
 ],
 "metadata": {
  "kernelspec": {
   "display_name": "Python 3 (ipykernel)",
   "language": "python",
   "name": "python3"
  },
  "language_info": {
   "codemirror_mode": {
    "name": "ipython",
    "version": 3
   },
   "file_extension": ".py",
   "mimetype": "text/x-python",
   "name": "python",
   "nbconvert_exporter": "python",
   "pygments_lexer": "ipython3",
   "version": "3.11.5"
  }
 },
 "nbformat": 4,
 "nbformat_minor": 5
}
