{
 "cells": [
  {
   "cell_type": "markdown",
   "id": "50a9f9b5",
   "metadata": {},
   "source": [
    "## Coding Set 11"
   ]
  },
  {
   "cell_type": "raw",
   "id": "d8ce37ce",
   "metadata": {},
   "source": [
    "Programming Exercise 1"
   ]
  },
  {
   "cell_type": "code",
   "execution_count": null,
   "id": "fec875d9",
   "metadata": {},
   "outputs": [],
   "source": [
    "#First define the Employee class\n",
    "class Employee:\n",
    "    #Constructor method to intialize the object with name and employee number\n",
    "    def __init__(self, name, emp_number):\n",
    "        #Private instance variables to store employee name and number\n",
    "        self.__name = name\n",
    "        self.__emp_number = emp_number\n",
    "        \n",
    "    #Accessor method to get employee name\n",
    "    def get_name(self):\n",
    "        return self.__name\n",
    "    \n",
    "    #Accessor method to get employee number\n",
    "    def get_emp_number(self):\n",
    "        return self.__emp_number\n",
    "    \n",
    "    #Mutator method to set employee name\n",
    "    def set_name(self, name):\n",
    "        self.__name = name\n",
    "        \n",
    "    #Mutator method to set employee number\n",
    "    def set_emp_number(self, emp_number):\n",
    "        self.__emp_number = emp_number\n",
    "        \n",
    "        \n",
    "#Define the ShiftEmployee class which is a subclass of Employee\n",
    "class ShiftEmployee(Employee):\n",
    "    #Constructor method to initialize the object with name, employee number, shift number, and hourly pay rate\n",
    "    def __init__(self, name, emp_number, shift_number, hourly_pay_rate):\n",
    "        #Call the constructor of the superclass (Employee) to intitialize name and employee number\n",
    "        super().__init__(name, emp_number)\n",
    "        #Private instance variables to store shift number and hourly pay rate\n",
    "        self.__shift_number = shift_number\n",
    "        self.__hourly_pay_rate = hourly_pay_rate\n",
    "        \n",
    "    #Accessor method to get shift number\n",
    "    def get_shift_number(self):\n",
    "        return self.__shift_number\n",
    "    \n",
    "    #Accessor method to get hourly pay rate\n",
    "    def get_hourly_pay_rate(self):\n",
    "        return self.__hourly_pay_rate\n",
    "\n",
    "    #Mutator method to set shift number\n",
    "    def set_shift_number(self, shift_number):\n",
    "        self.__shift_number = shift_number\n",
    "        \n",
    "    #Mutator method to set hourly pay rate\n",
    "    def set_hourly_pay_rate(self, hourly_pay_rate):\n",
    "        self.__hourly_pay_rate = hourly_pay_rate\n",
    "        \n",
    "        \n",
    "        "
   ]
  }
 ],
 "metadata": {
  "kernelspec": {
   "display_name": "Python 3 (ipykernel)",
   "language": "python",
   "name": "python3"
  },
  "language_info": {
   "codemirror_mode": {
    "name": "ipython",
    "version": 3
   },
   "file_extension": ".py",
   "mimetype": "text/x-python",
   "name": "python",
   "nbconvert_exporter": "python",
   "pygments_lexer": "ipython3",
   "version": "3.11.5"
  }
 },
 "nbformat": 4,
 "nbformat_minor": 5
}
