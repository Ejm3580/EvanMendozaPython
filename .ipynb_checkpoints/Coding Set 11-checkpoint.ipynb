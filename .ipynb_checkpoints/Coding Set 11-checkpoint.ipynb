{
 "cells": [
  {
   "cell_type": "markdown",
   "id": "dee4e3ae",
   "metadata": {},
   "source": [
    "## Coding Set 11"
   ]
  },
  {
   "cell_type": "raw",
   "id": "5521e646",
   "metadata": {},
   "source": [
    "Programming Exercise 1"
   ]
  },
  {
   "cell_type": "code",
   "execution_count": 2,
   "id": "dda1e77a",
   "metadata": {},
   "outputs": [
    {
     "name": "stdout",
     "output_type": "stream",
     "text": [
      "Enter employee name: Evan\n",
      "Enter employee number: 12234\n",
      "Enter shift number (1 for day, 2 for night): 2\n",
      "Enter hourly pay rate: 12.00\n",
      "\n",
      "Employee Information:\n",
      "Name: Evan\n",
      "Employee Number: 12234\n",
      "Shift: Night\n",
      "Hourly Pay Rate: 12.0\n"
     ]
    }
   ],
   "source": [
    "#First define the Employee class\n",
    "class Employee:\n",
    "    #Constructor method to intialize the object with name and employee number\n",
    "    def __init__(self, name, emp_number):\n",
    "        #Private instance variables to store employee name and number\n",
    "        self.__name = name\n",
    "        self.__emp_number = emp_number\n",
    "        \n",
    "    #Accessor method to get employee name\n",
    "    def get_name(self):\n",
    "        return self.__name\n",
    "    \n",
    "    #Accessor method to get employee number\n",
    "    def get_emp_number(self):\n",
    "        return self.__emp_number\n",
    "    \n",
    "    #Mutator method to set employee name\n",
    "    def set_name(self, name):\n",
    "        self.__name = name\n",
    "        \n",
    "    #Mutator method to set employee number\n",
    "    def set_emp_number(self, emp_number):\n",
    "        self.__emp_number = emp_number\n",
    "        \n",
    "        \n",
    "#Define the ShiftEmployee class which is a subclass of Employee\n",
    "class ShiftEmployee(Employee):\n",
    "    #Constructor method to initialize the object with name, employee number, shift number, and hourly pay rate\n",
    "    def __init__(self, name, emp_number, shift_number, hourly_pay_rate):\n",
    "        #Call the constructor of the superclass (Employee) to intitialize name and employee number\n",
    "        super().__init__(name, emp_number)\n",
    "        #Private instance variables to store shift number and hourly pay rate\n",
    "        self.__shift_number = shift_number\n",
    "        self.__hourly_pay_rate = hourly_pay_rate\n",
    "        \n",
    "    #Accessor method to get shift number\n",
    "    def get_shift_number(self):\n",
    "        return self.__shift_number\n",
    "    \n",
    "    #Accessor method to get hourly pay rate\n",
    "    def get_hourly_pay_rate(self):\n",
    "        return self.__hourly_pay_rate\n",
    "\n",
    "    #Mutator method to set shift number\n",
    "    def set_shift_number(self, shift_number):\n",
    "        self.__shift_number = shift_number\n",
    "        \n",
    "    #Mutator method to set hourly pay rate\n",
    "    def set_hourly_pay_rate(self, hourly_pay_rate):\n",
    "        self.__hourly_pay_rate = hourly_pay_rate\n",
    "        \n",
    "        \n",
    "#Main function to execute the program\n",
    "def main():\n",
    "    #Prompt user to enter employee information\n",
    "    name = input(\"Enter employee name: \")\n",
    "    emp_number = input(\"Enter employee number: \")\n",
    "    shift_number = int(input(\"Enter shift number (1 for day, 2 for night): \"))\n",
    "    hourly_pay_rate = float(input(\"Enter hourly pay rate: \"))\n",
    "    \n",
    "    #Create an object of ShiftEmployee ckass with provided information\n",
    "    emp = ShiftEmployee(name, emp_number, shift_number, hourly_pay_rate)\n",
    "    \n",
    "    #Display the employee information using accessor methods\n",
    "    print(\"\\nEmployee Information:\")\n",
    "    print(\"Name:\", emp.get_name())\n",
    "    print(\"Employee Number:\", emp.get_emp_number())\n",
    "    if emp.get_shift_number() == 1:\n",
    "        print(\"Shift: Day\")\n",
    "    elif emp.get_shift_number() == 2:\n",
    "        print(\"Shift: Night\")\n",
    "    else:\n",
    "        print(\"Invalid Shift Number\")\n",
    "    print(\"Hourly Pay Rate:\", emp.get_hourly_pay_rate())\n",
    "    \n",
    "    \n",
    "#Execute command\n",
    "if __name__ == \"__main__\":\n",
    "    main()\n",
    "    "
   ]
  },
  {
   "cell_type": "code",
   "execution_count": null,
   "id": "6fd59a0b",
   "metadata": {},
   "outputs": [],
   "source": []
  }
 ],
 "metadata": {
  "kernelspec": {
   "display_name": "Python 3 (ipykernel)",
   "language": "python",
   "name": "python3"
  },
  "language_info": {
   "codemirror_mode": {
    "name": "ipython",
    "version": 3
   },
   "file_extension": ".py",
   "mimetype": "text/x-python",
   "name": "python",
   "nbconvert_exporter": "python",
   "pygments_lexer": "ipython3",
   "version": "3.11.5"
  }
 },
 "nbformat": 4,
 "nbformat_minor": 5
}
