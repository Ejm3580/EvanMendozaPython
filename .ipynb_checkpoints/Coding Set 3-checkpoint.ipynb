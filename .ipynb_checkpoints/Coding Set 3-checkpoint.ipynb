{
 "cells": [
  {
   "cell_type": "markdown",
   "id": "2b379ebf",
   "metadata": {},
   "source": [
    "## Coding Set 3\n",
    "\n",
    "Algorithm workbench question 4"
   ]
  },
  {
   "cell_type": "code",
   "execution_count": 22,
   "id": "9ff267ef",
   "metadata": {},
   "outputs": [
    {
     "name": "stdout",
     "output_type": "stream",
     "text": [
      "Input your score here: 78\n",
      "Your grade is C.\n"
     ]
    }
   ],
   "source": [
    "A_score=90\n",
    "B_score=80\n",
    "C_score=70\n",
    "D_score=60\n",
    "score=int(input('Input your score here: '))\n",
    "if score >= A_score:\n",
    "    print('Your grade is A.')\n",
    "else:\n",
    "    if score >= B_score:\n",
    "        print('Your grade is B.')\n",
    "    else:\n",
    "        if score >= C_score:\n",
    "            print('Your grade is C.')\n",
    "        else:\n",
    "            if score >= D_score:\n",
    "                print('Your grade is D.')\n",
    "            else:\n",
    "                print('Your grade is F.')"
   ]
  },
  {
   "cell_type": "markdown",
   "id": "d56daac4",
   "metadata": {},
   "source": [
    "Algorithm workbench question 5"
   ]
  },
  {
   "cell_type": "code",
   "execution_count": 24,
   "id": "f2eb62a0",
   "metadata": {},
   "outputs": [
    {
     "name": "stdout",
     "output_type": "stream",
     "text": [
      "Enter the value of a: 15\n",
      "Enter the value of b: 80\n",
      "The greater value between 15 and 80 is 80.\n"
     ]
    }
   ],
   "source": [
    "a=int(input('Enter the value of a: '))\n",
    "b=int(input('Enter the value of b: '))\n",
    "\n",
    "if a>10 and b<100:\n",
    "    if a>b:\n",
    "        print(f'The greater value between {a} and {b} is {a}.')\n",
    "    else:\n",
    "        if b>a:\n",
    "            print(f'The greater value between {a} and {b} is {b}.')\n",
    "        "
   ]
  },
  {
   "cell_type": "code",
   "execution_count": null,
   "id": "d694b3a5",
   "metadata": {},
   "outputs": [],
   "source": []
  }
 ],
 "metadata": {
  "kernelspec": {
   "display_name": "Python 3 (ipykernel)",
   "language": "python",
   "name": "python3"
  },
  "language_info": {
   "codemirror_mode": {
    "name": "ipython",
    "version": 3
   },
   "file_extension": ".py",
   "mimetype": "text/x-python",
   "name": "python",
   "nbconvert_exporter": "python",
   "pygments_lexer": "ipython3",
   "version": "3.11.5"
  }
 },
 "nbformat": 4,
 "nbformat_minor": 5
}
