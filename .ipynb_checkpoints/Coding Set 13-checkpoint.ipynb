{
 "cells": [
  {
   "cell_type": "markdown",
   "id": "7f2a5648",
   "metadata": {},
   "source": [
    "## Coding Set 13"
   ]
  },
  {
   "cell_type": "markdown",
   "id": "8c3d98cd",
   "metadata": {},
   "source": [
    "Programming Exercise 1"
   ]
  },
  {
   "cell_type": "code",
   "execution_count": 1,
   "id": "b1d6c44d",
   "metadata": {},
   "outputs": [],
   "source": [
    "#Import tkinter module and alias as tk\n",
    "import tkinter as tk\n",
    "#Function to display name and address when the button is clicked\n",
    "def show_info():\n",
    "    #Update the text of the label to display the name and address\n",
    "    info_label.config(text=\"Name: Johnny A.\\nAddress: 1234 Happy Ln\")"
   ]
  }
 ],
 "metadata": {
  "kernelspec": {
   "display_name": "Python 3 (ipykernel)",
   "language": "python",
   "name": "python3"
  },
  "language_info": {
   "codemirror_mode": {
    "name": "ipython",
    "version": 3
   },
   "file_extension": ".py",
   "mimetype": "text/x-python",
   "name": "python",
   "nbconvert_exporter": "python",
   "pygments_lexer": "ipython3",
   "version": "3.11.5"
  }
 },
 "nbformat": 4,
 "nbformat_minor": 5
}
