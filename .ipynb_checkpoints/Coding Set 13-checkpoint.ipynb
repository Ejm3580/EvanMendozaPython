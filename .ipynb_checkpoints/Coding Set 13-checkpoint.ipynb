{
 "cells": [
  {
   "cell_type": "markdown",
   "id": "258b1caf",
   "metadata": {},
   "source": [
    "## Coding Set 13"
   ]
  },
  {
   "cell_type": "markdown",
   "id": "40decc5b",
   "metadata": {},
   "source": [
    "Programming Exercise 1"
   ]
  },
  {
   "cell_type": "code",
   "execution_count": 5,
   "id": "f4f5b848",
   "metadata": {},
   "outputs": [],
   "source": [
    "#Import tkinter module and alias as tk\n",
    "import tkinter as tk\n",
    "#Function to display name and address when the button is clicked\n",
    "def show_info():\n",
    "    #Update the text of the label to display the name and address\n",
    "    info_label.config(text=\"Johnny A.\\n1234 Happy Ln\\nCharlotte, NC 0000\")\n",
    "    \n",
    "#Create the main window\n",
    "#Create an instance of Tkinter's main window\n",
    "root = tk.Tk() \n",
    "#Set the title of the window\n",
    "root.title(\"Personal Info\")\n",
    "\n",
    "#Create a label widget to display the info\n",
    "info_label = tk.Label(root, text=\"\", font=(\"Helvetica\", 12))\n",
    "#Add label to the window and add padding with it\n",
    "info_label.pack(pady=20)\n",
    "\n",
    "#Create a button widget to show the info\n",
    "show_info_button = tk.Button(root, text=\"Show Info\", command=show_info)\n",
    "#The 'command' parameter specifies the function to call when the button is clicked\n",
    "show_info_button.pack() #Add the button to the window\n",
    "\n",
    "root.mainloop()"
   ]
  },
  {
   "cell_type": "code",
   "execution_count": null,
   "id": "b59cf185",
   "metadata": {},
   "outputs": [],
   "source": []
  }
 ],
 "metadata": {
  "kernelspec": {
   "display_name": "Python 3 (ipykernel)",
   "language": "python",
   "name": "python3"
  },
  "language_info": {
   "codemirror_mode": {
    "name": "ipython",
    "version": 3
   },
   "file_extension": ".py",
   "mimetype": "text/x-python",
   "name": "python",
   "nbconvert_exporter": "python",
   "pygments_lexer": "ipython3",
   "version": "3.11.5"
  }
 },
 "nbformat": 4,
 "nbformat_minor": 5
}
