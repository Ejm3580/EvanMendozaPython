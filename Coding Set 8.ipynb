{
 "cells": [
  {
   "cell_type": "markdown",
   "id": "13f6b7f8",
   "metadata": {},
   "source": [
    "## Coding Set 8"
   ]
  },
  {
   "cell_type": "markdown",
   "id": "e343328a",
   "metadata": {},
   "source": [
    "Algorithm Workbench Question 10"
   ]
  },
  {
   "cell_type": "code",
   "execution_count": 2,
   "id": "6a2fe372",
   "metadata": {},
   "outputs": [
    {
     "name": "stdout",
     "output_type": "stream",
     "text": [
      "['cookies', 'milk', 'fudge', 'cake', 'ice cream']\n"
     ]
    }
   ],
   "source": [
    "#Input mystring given by textbook\n",
    "mystring = 'cookies>milk>fudge>cake>ice cream'\n",
    "\n",
    "#Create code that splits the string and prints it into the defined format givem by textbook\n",
    "mylist = mystring.split('>')\n",
    "print(mylist)"
   ]
  }
 ],
 "metadata": {
  "kernelspec": {
   "display_name": "Python 3 (ipykernel)",
   "language": "python",
   "name": "python3"
  },
  "language_info": {
   "codemirror_mode": {
    "name": "ipython",
    "version": 3
   },
   "file_extension": ".py",
   "mimetype": "text/x-python",
   "name": "python",
   "nbconvert_exporter": "python",
   "pygments_lexer": "ipython3",
   "version": "3.11.5"
  }
 },
 "nbformat": 4,
 "nbformat_minor": 5
}
