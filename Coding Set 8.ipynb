{
 "cells": [
  {
   "cell_type": "markdown",
   "id": "474f3482",
   "metadata": {},
   "source": [
    "## Coding Set 8"
   ]
  },
  {
   "cell_type": "markdown",
   "id": "83e3c750",
   "metadata": {},
   "source": [
    "Algorithm Workbench Question 10"
   ]
  },
  {
   "cell_type": "code",
   "execution_count": 5,
   "id": "f2d1547c",
   "metadata": {},
   "outputs": [
    {
     "name": "stdout",
     "output_type": "stream",
     "text": [
      "['cookies', 'milk', 'fudge', 'cake', 'ice cream']\n"
     ]
    }
   ],
   "source": [
    "#Input mystring given by textbook\n",
    "mystring = 'cookies>milk>fudge>cake>ice cream'\n",
    "\n",
    "#Create code that splits the string and prints it into the defined format givem by textbook\n",
    "mylist = mystring.split('>')\n",
    "print(mylist)"
   ]
  },
  {
   "cell_type": "markdown",
   "id": "de725045",
   "metadata": {},
   "source": [
    "Algorithm Workbench Question 2"
   ]
  },
  {
   "cell_type": "code",
   "execution_count": 6,
   "id": "cf4b7841",
   "metadata": {},
   "outputs": [
    {
     "name": "stdout",
     "output_type": "stream",
     "text": [
      "Number of space characters: 4\n"
     ]
    }
   ],
   "source": [
    "#Define my string as some sort of phrase\n",
    "mystring = \"Hello world! How are you?\"\n",
    "\n",
    "#Define a variable that will count the spaces which will be space_count\n",
    "space_count = 0\n",
    "#Following command will count the spaces in the phrase\n",
    "for ch in mystring:\n",
    "    if ch == ' ':\n",
    "        space_count += 1\n",
    "\n",
    "#Print command to print out a statement that will read the space_count        \n",
    "print(\"Number of space characters:\", space_count)"
   ]
  },
  {
   "cell_type": "markdown",
   "id": "8e28795f",
   "metadata": {},
   "source": [
    "Programming Exercise Question 1"
   ]
  },
  {
   "cell_type": "code",
   "execution_count": 7,
   "id": "9ac12f57",
   "metadata": {},
   "outputs": [
    {
     "name": "stdout",
     "output_type": "stream",
     "text": [
      "Enter your full name: Evan Jacob Mendoza\n",
      "Initials: E. J. M.\n"
     ]
    }
   ],
   "source": [
    "def get_initials(name):\n",
    "    # Split the name into individual names\n",
    "    names = name.split()\n",
    "\n",
    "    # Extract the first character of each name and capitalize it\n",
    "    initials = [name[0].upper() + '.' for name in names]\n",
    "\n",
    "    # Join the initials with a space and return\n",
    "    return ' '.join(initials)\n",
    "\n",
    "\n",
    "# Get the input from the user\n",
    "full_name = input(\"Enter your full name: \")\n",
    "\n",
    "# Get and display the initials\n",
    "initials = get_initials(full_name)\n",
    "print(\"Initials:\", initials)"
   ]
  },
  {
   "cell_type": "markdown",
   "id": "e4bc622e",
   "metadata": {},
   "source": [
    "Programming Exercise Question 2"
   ]
  },
  {
   "cell_type": "code",
   "execution_count": 9,
   "id": "7e9ad7db",
   "metadata": {},
   "outputs": [
    {
     "name": "stdout",
     "output_type": "stream",
     "text": [
      "Enter a series of single-digit numbers with nothing separating them: 2345236\n",
      "Sum of single-digit numbers: 25\n"
     ]
    }
   ],
   "source": [
    "def sum_single_digits(input_str):\n",
    "    # Initialize the sum\n",
    "    total = 0\n",
    "    \n",
    "    # Iterate through each character in the input string\n",
    "    for char in input_str:\n",
    "        # Convert the character to an integer\n",
    "        digit = int(char)\n",
    "        \n",
    "        # Add the digit to the total\n",
    "        total += digit\n",
    "    \n",
    "    # Return the total sum\n",
    "    return total\n",
    "\n",
    "# Get input from the user\n",
    "input_str = input(\"Enter a series of single-digit numbers with nothing separating them: \")\n",
    "\n",
    "# Calculate and display the sum of single-digit numbers\n",
    "result = sum_single_digits(input_str)\n",
    "print(\"Sum of single-digit numbers:\", result)"
   ]
  },
  {
   "cell_type": "markdown",
   "id": "89955060",
   "metadata": {},
   "source": [
    "Programming Exercise Question 9"
   ]
  },
  {
   "cell_type": "code",
   "execution_count": 11,
   "id": "25cbc4fe",
   "metadata": {},
   "outputs": [
    {
     "name": "stdout",
     "output_type": "stream",
     "text": [
      "Enter a sentence: My name is Evan Mendoza and this is for my programming class\n",
      "Number of vowels: 16\n",
      "Number of consonants: 33\n"
     ]
    }
   ],
   "source": [
    "def count_vowels(input_str):\n",
    "    # Define a set of vowels\n",
    "    vowels = {'a', 'e', 'i', 'o', 'u'}\n",
    "    \n",
    "    # Initialize count\n",
    "    vowel_count = 0\n",
    "    \n",
    "    # Iterate through characters in the input string\n",
    "    for ch in input_str:\n",
    "        # Check if the character is a vowel (case insensitive)\n",
    "        if ch.lower() in vowels:\n",
    "            vowel_count += 1\n",
    "    \n",
    "    return vowel_count\n",
    "\n",
    "def count_consonants(input_str):\n",
    "    # Define a set of vowels\n",
    "    vowels = {'a', 'e', 'i', 'o', 'u'}\n",
    "    \n",
    "    # Initialize count\n",
    "    consonant_count = 0\n",
    "    \n",
    "    # Iterate through characters in the input string\n",
    "    for ch in input_str:\n",
    "        # Check if the character is a letter and not a vowel (case insensitive)\n",
    "        if ch.isalpha() and ch.lower() not in vowels:\n",
    "            consonant_count += 1\n",
    "    \n",
    "    return consonant_count\n",
    "\n",
    "# Get input from the user\n",
    "input_str = input(\"Enter a sentence: \")\n",
    "\n",
    "# Calculate and display the number of vowels and consonants\n",
    "vowel_count = count_vowels(input_str)\n",
    "consonant_count = count_consonants(input_str)\n",
    "\n",
    "print(\"Number of vowels:\", vowel_count)\n",
    "print(\"Number of consonants:\", consonant_count)"
   ]
  },
  {
   "cell_type": "code",
   "execution_count": null,
   "id": "6638bb71",
   "metadata": {},
   "outputs": [],
   "source": []
  }
 ],
 "metadata": {
  "kernelspec": {
   "display_name": "Python 3 (ipykernel)",
   "language": "python",
   "name": "python3"
  },
  "language_info": {
   "codemirror_mode": {
    "name": "ipython",
    "version": 3
   },
   "file_extension": ".py",
   "mimetype": "text/x-python",
   "name": "python",
   "nbconvert_exporter": "python",
   "pygments_lexer": "ipython3",
   "version": "3.11.5"
  }
 },
 "nbformat": 4,
 "nbformat_minor": 5
}
