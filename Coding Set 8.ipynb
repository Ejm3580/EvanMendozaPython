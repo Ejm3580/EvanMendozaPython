{
 "cells": [
  {
   "cell_type": "markdown",
   "id": "b1bedab9",
   "metadata": {},
   "source": [
    "## Coding Set 8"
   ]
  },
  {
   "cell_type": "markdown",
   "id": "4765f728",
   "metadata": {},
   "source": [
    "Algorithm Workbench Question 10"
   ]
  },
  {
   "cell_type": "code",
   "execution_count": 5,
   "id": "c2456915",
   "metadata": {},
   "outputs": [
    {
     "name": "stdout",
     "output_type": "stream",
     "text": [
      "['cookies', 'milk', 'fudge', 'cake', 'ice cream']\n"
     ]
    }
   ],
   "source": [
    "#Input mystring given by textbook\n",
    "mystring = 'cookies>milk>fudge>cake>ice cream'\n",
    "\n",
    "#Create code that splits the string and prints it into the defined format givem by textbook\n",
    "mylist = mystring.split('>')\n",
    "print(mylist)"
   ]
  },
  {
   "cell_type": "markdown",
   "id": "c68e0a04",
   "metadata": {},
   "source": [
    "Algorithm Workbench Question 2"
   ]
  },
  {
   "cell_type": "code",
   "execution_count": 6,
   "id": "fbbf7f6a",
   "metadata": {},
   "outputs": [
    {
     "name": "stdout",
     "output_type": "stream",
     "text": [
      "Number of space characters: 4\n"
     ]
    }
   ],
   "source": [
    "#Define my string as some sort of phrase\n",
    "mystring = \"Hello world! How are you?\"\n",
    "\n",
    "#Define a variable that will count the spaces which will be space_count\n",
    "space_count = 0\n",
    "#Following command will count the spaces in the phrase\n",
    "for ch in mystring:\n",
    "    if ch == ' ':\n",
    "        space_count += 1\n",
    "\n",
    "#Print command to print out a statement that will read the space_count        \n",
    "print(\"Number of space characters:\", space_count)"
   ]
  },
  {
   "cell_type": "markdown",
   "id": "3c3cd563",
   "metadata": {},
   "source": [
    "Programming Exercise Question 1"
   ]
  },
  {
   "cell_type": "code",
   "execution_count": 7,
   "id": "183d08b2",
   "metadata": {},
   "outputs": [
    {
     "name": "stdout",
     "output_type": "stream",
     "text": [
      "Enter your full name: Evan Jacob Mendoza\n",
      "Initials: E. J. M.\n"
     ]
    }
   ],
   "source": [
    "def get_initials(name):\n",
    "    # Split the name into individual names\n",
    "    names = name.split()\n",
    "\n",
    "    # Extract the first character of each name and capitalize it\n",
    "    initials = [name[0].upper() + '.' for name in names]\n",
    "\n",
    "    # Join the initials with a space and return\n",
    "    return ' '.join(initials)\n",
    "\n",
    "\n",
    "# Get the input from the user\n",
    "full_name = input(\"Enter your full name: \")\n",
    "\n",
    "# Get and display the initials\n",
    "initials = get_initials(full_name)\n",
    "print(\"Initials:\", initials)"
   ]
  },
  {
   "cell_type": "code",
   "execution_count": null,
   "id": "c2382d85",
   "metadata": {},
   "outputs": [],
   "source": []
  }
 ],
 "metadata": {
  "kernelspec": {
   "display_name": "Python 3 (ipykernel)",
   "language": "python",
   "name": "python3"
  },
  "language_info": {
   "codemirror_mode": {
    "name": "ipython",
    "version": 3
   },
   "file_extension": ".py",
   "mimetype": "text/x-python",
   "name": "python",
   "nbconvert_exporter": "python",
   "pygments_lexer": "ipython3",
   "version": "3.11.5"
  }
 },
 "nbformat": 4,
 "nbformat_minor": 5
}
